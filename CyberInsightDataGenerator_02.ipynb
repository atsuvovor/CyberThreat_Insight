{
 "cells": [
  {
   "cell_type": "markdown",
   "metadata": {},
   "source": [
    "# CyberThreat Insight – Cybersecurity Data Generator  \n",
    "Anomalous Behavior Detection in Cybersecurity Analytics using Generative AI\n\n",
    "**Toronto, September 01 2025**  \n",
    "**Author: Atsu Vovor**  \n",
    "> Master of Management in Artificial Intelligence  \n",
    "> Consultant Data Analytics Specialist | Machine Learning | Data Science | Quantitative Analysis | French & English Bilingual\n\n",
    "**Model Name:** Cybersecurity Data Generator  \n",
    "**Model Type:** Data Generator"
   ]
  },
  {
   "cell_type": "markdown",
   "metadata": {},
   "source": [
    "## Project Overview\n",
    "This notebook provides a Python script to generate **synthetic cybersecurity issue data**. It simulates both **normal and anomalous cybersecurity events** for:\n\n",
    "* Training anomaly detection models (labeled normal/anomalous samples)\n",
    "* Testing SIEM systems (realistic security logs and incidents)\n",
    "* Developing and validating security analytics (exploring KPIs/KRIs and metrics)\n",
    "* Demonstrating cybersecurity concepts for educational purposes\n\n",
    "The script generates attributes such as issue details, user activity, system metrics, and threat indicators. It includes an **adaptive defense mechanism** based on threat level and severity."
   ]
  },
  {
   "cell_type": "markdown",
   "metadata": {},
   "source": [
    "## Script Structure and Functionality\n",
    "**Classes:**\n\n",
    "**1. `DataConfig`** – Holds configuration parameters for users, departments, date ranges, categories, severities, statuses, reporters, assignees, locations, column names, and pre-defined DataFrames for KTIs and Scenarios.\n\n",
    "**2. `DataGenerator`** – Generates synthetic datasets:\n",
    "* Maps issue categories to normal/anomalous names\n",
    "* Filters categories into KPIs/KRIs\n",
    "* Generates random dates within range\n",
    "* Calculates threat level via `calculate_threat_level`\n",
    "* Suggests defense actions via `adaptive_defense_mechanism`\n",
    "* Generates DataFrames for normal/anomalous issues\n",
    "* Combines datasets and adds \"Is Anomaly\" label\n\n",
    "**3. `DataProcessor`** – Adds visual indicators (threat level/severity colors).\n\n",
    "**4. `DataSaver`** – Saves DataFrames to Google Drive or local paths.\n\n",
    "**5. `DataDisplay`** – Displays `.head()`, `.info()`, `.describe()` for quick inspection."
   ]
  },
  {
   "cell_type": "markdown",
   "metadata": {},
   "source": [
    "## How to Use the Script\n",
    "\n",
    "### 1. Connect to Google Drive\n",
    "Ensure Colab is connected to your Google Drive to save generated datasets.\n"
   ]
  },
  {
   "cell_type": "markdown",
   "metadata": {},
   "source": [
    "### 2. Run the Code\n",
    "**Option 1: Run normally**\n\n",
    "```python\n",
    "%run https://raw.githubusercontent.com/atsuvovor/CyberThreat_Insight/main/datagen/cyberdatagen.py\n",
    "```\n\n",
    "At the end, you’ll be prompted:\n\n",
    "```\n",
    "Would you like to download the data files locally as well? (yes/no):\n",
    "```\n\n",
    "* **yes** → creates and downloads `cybersecurity_data.zip`\n",
    "* **no** → keeps datasets in the Google Drive folder only"
   ]
  },
  {
   "cell_type": "markdown",
   "metadata": {},
   "source": [
    "**Option 2: Run in One Cell (Recommended for Colab)**\n\n",
    "Users can generate and download all datasets with a **single click**:\n\n",
    "```python\n",
    "!wget -q -O cyberdatagen.py https://raw.githubusercontent.com/atsuvovor/CyberThreat_Insight/main/datagen/cyberdatagen.py && \\\n",
    "%run cyberdatagen.py && \\\n",
    "from IPython.display import FileLink, display; import os; display(FileLink(\"cybersecurity_data.zip\", result_html_prefix=\"✅ Download: \"))\n",
    "```\n\n",
    "This will:\n",
    "1. Download the latest script from GitHub\n",
    "2. Run it to generate datasets in `cybersecurity_data/`\n",
    "3. Provide a clickable ZIP download link"
   ]
  },
  {
   "cell_type": "markdown",
   "metadata": {},
   "source": [
    "### 3. Access the Data\n\n",
    "Generated CSV files will be saved in:\n\n",
    "```\n",
    "/content/drive/My Drive/Cybersecurity Data\n",
    "```\n\n",
    "Or, if using ZIP, in the notebook environment:\n\n",
    "```\n",
    "/content/cybersecurity_data.zip\n",
    "```"
   ]
  },
  {
   "cell_type": "markdown",
   "metadata": {},
   "source": [
    "## Customization\n\n",
    "Adjust parameters in `DataConfig`:\n",
    "* Number of normal/anomalous issues\n",
    "* Number of users, reporters, assignees\n",
    "* Date ranges\n",
    "* Categories, severities, statuses\n",
    "* Distribution logic in `DataGenerator` methods"
   ]
  },
  {
   "cell_type": "markdown",
   "metadata": {},
   "source": [
    "## Future Enhancements\n\n",
    "* More sophisticated anomaly generation techniques\n",
    "* Complex feature interactions and dependencies\n",
    "* Incorporate network traffic/log data\n",
    "* Command-line interface or GUI for configuration\n",
    "* Alternative data formats (Parquet, JSON)"
   ]
  },
  {
   "cell_type": "markdown",
   "metadata": {},
   "source": [
    "## Author\n\n",
    "**Atsu Vovor**  \n",
    "Data & Analytics Consultant | Cybersecurity | AI Reporting  \n",
    "[LinkedIn](https://www.linkedin.com/in/atsu-vovor-mmai-9188326/) | [GitHub](https://github.com/atsuvovor)"
   ]
  }
 ],
 "metadata": {
  "kernelspec": {
   "display_name": "Python 3",
   "language": "python",
   "name": "python3"
  },
  "language_info": {
   "name": "python",
   "version": "3.10"
  }
 },
 "nbformat": 4,
 "nbformat_minor": 5
}
